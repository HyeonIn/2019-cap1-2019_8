{
 "cells": [
  {
   "cell_type": "code",
   "execution_count": 1,
   "metadata": {},
   "outputs": [],
   "source": [
    "#specific to extracting information from word documents\n",
    "import os\n",
    "import zipfile"
   ]
  },
  {
   "cell_type": "code",
   "execution_count": 2,
   "metadata": {},
   "outputs": [],
   "source": [
    "import hashlib"
   ]
  },
  {
   "cell_type": "code",
   "execution_count": 3,
   "metadata": {},
   "outputs": [],
   "source": [
    "import numpy as np"
   ]
  },
  {
   "cell_type": "code",
   "execution_count": 4,
   "metadata": {},
   "outputs": [],
   "source": [
    "import pandas as pd"
   ]
  },
  {
   "cell_type": "code",
   "execution_count": 5,
   "metadata": {},
   "outputs": [],
   "source": [
    "#other tools useful in extracting the information from our document\n",
    "import re"
   ]
  },
  {
   "cell_type": "code",
   "execution_count": 6,
   "metadata": {},
   "outputs": [],
   "source": [
    "#to pretty print our xml:\n",
    "import xml.dom.minidom"
   ]
  },
  {
   "cell_type": "code",
   "execution_count": 7,
   "metadata": {},
   "outputs": [],
   "source": [
    "def make_file_list(file_path):\n",
    "    file_list = []\n",
    "    for root, dirs, files in os.walk(file_path):\n",
    "        for file in files:\n",
    "            file_list.append(file)\n",
    "           # print (file)\n",
    "    return file_list"
   ]
  },
  {
   "cell_type": "code",
   "execution_count": 8,
   "metadata": {},
   "outputs": [],
   "source": [
    "def rename_file(fpath):\n",
    "    for fname in os.listdir(fpath):\n",
    "        with open(os.path.join(fpath, fname),'rb') as f:\n",
    "            sha256 = hashlib.sha256(f.read()).hexdigest()\n",
    "        \n",
    "        os.rename(os.path.join(fpath,fname), os.path.join(fpath,sha256+'.docx'))"
   ]
  },
  {
   "cell_type": "code",
   "execution_count": 9,
   "metadata": {},
   "outputs": [
    {
     "data": {
      "text/plain": [
       "['.ipynb_checkpoints',\n",
       " 'benign_docx.csv',\n",
       " 'benign_docx_df.csv',\n",
       " 'benign_docx_total_df.csv',\n",
       " 'convert_file_names.ipynb',\n",
       " 'docx features.ipynb',\n",
       " 'docx_DF.ipynb',\n",
       " 'docx_DF2.ipynb',\n",
       " 'feature_data',\n",
       " 'Feature_hashing.ipynb',\n",
       " 'malware_docx.csv',\n",
       " 'malware_docx_df.csv',\n",
       " 'malware_docx_total_df.csv',\n",
       " 'PDF',\n",
       " 'sha256.ipynb',\n",
       " 'test_malware_docx.csv',\n",
       " 'test_malware_docx_df.csv',\n",
       " 'test_malware_docx_total_df.csv']"
      ]
     },
     "execution_count": 9,
     "metadata": {},
     "output_type": "execute_result"
    }
   ],
   "source": [
    "os.listdir('.')"
   ]
  },
  {
   "cell_type": "code",
   "execution_count": 10,
   "metadata": {},
   "outputs": [],
   "source": [
    "mal_file_path = r'C:\\Users\\lgty\\Desktop\\word\\malware'\n",
    "mal_file_list = make_file_list(mal_file_path)"
   ]
  },
  {
   "cell_type": "code",
   "execution_count": 11,
   "metadata": {},
   "outputs": [],
   "source": [
    "ben_file_path = r'C:\\Users\\lgty\\Desktop\\word\\benign'\n",
    "ben_file_list = make_file_list(ben_file_path)"
   ]
  },
  {
   "cell_type": "code",
   "execution_count": 12,
   "metadata": {},
   "outputs": [
    {
     "data": {
      "text/plain": [
       "96"
      ]
     },
     "execution_count": 12,
     "metadata": {},
     "output_type": "execute_result"
    }
   ],
   "source": [
    "len(mal_file_list)"
   ]
  },
  {
   "cell_type": "code",
   "execution_count": 13,
   "metadata": {},
   "outputs": [
    {
     "data": {
      "text/plain": [
       "82"
      ]
     },
     "execution_count": 13,
     "metadata": {},
     "output_type": "execute_result"
    }
   ],
   "source": [
    "len(ben_file_list)"
   ]
  },
  {
   "cell_type": "markdown",
   "metadata": {},
   "source": [
    "# Malicious"
   ]
  },
  {
   "cell_type": "markdown",
   "metadata": {},
   "source": [
    "Total Malware Feature of Docx (58 files) : 68"
   ]
  },
  {
   "cell_type": "code",
   "execution_count": 15,
   "metadata": {},
   "outputs": [],
   "source": [
    "mal_features = list()\n",
    "\n",
    "for i in range(len(mal_file_list)):\n",
    "    try:\n",
    "        #document will be the filetype zipfile.ZipFile\n",
    "        document = zipfile.ZipFile(os.path.join(mal_file_path, mal_file_list[i]))\n",
    "        f = document.namelist()\n",
    "        mal_features.append(f)\n",
    "\n",
    "    except zipfile.BadZipfile:\n",
    "        # the file didn't download correctly\n",
    "        #print (\"BadZipfile: {}\".format(mal_file_list[i]))\n",
    "        continue"
   ]
  },
  {
   "cell_type": "code",
   "execution_count": 18,
   "metadata": {},
   "outputs": [
    {
     "data": {
      "text/plain": [
       "[['[Content_Types].xml',\n",
       "  '_rels/.rels',\n",
       "  'word/_rels/document.xml.rels',\n",
       "  'word/document.xml',\n",
       "  'word/endnotes.xml',\n",
       "  'word/footnotes.xml',\n",
       "  'word/theme/theme1.xml',\n",
       "  'word/_rels/vbaProject.bin.rels',\n",
       "  'word/settings.xml',\n",
       "  'word/vbaData.xml',\n",
       "  'customXml/itemProps1.xml',\n",
       "  'customXml/item1.xml',\n",
       "  'customXml/_rels/item1.xml.rels',\n",
       "  'word/fontTable.xml',\n",
       "  'docProps/core.xml',\n",
       "  'word/webSettings.xml',\n",
       "  'word/styles.xml',\n",
       "  'word/numbering.xml',\n",
       "  'docProps/app.xml'],\n",
       " ['[Content_Types].xml',\n",
       "  '_rels/.rels',\n",
       "  'word/_rels/document.xml.rels',\n",
       "  'word/document.xml',\n",
       "  'word/media/image1.emf',\n",
       "  'word/theme/theme1.xml',\n",
       "  'word/settings.xml',\n",
       "  'word/webSettings.xml',\n",
       "  'word/stylesWithEffects.xml',\n",
       "  'docProps/core.xml',\n",
       "  'word/styles.xml',\n",
       "  'word/fontTable.xml',\n",
       "  'docProps/app.xml']]"
      ]
     },
     "execution_count": 18,
     "metadata": {},
     "output_type": "execute_result"
    }
   ],
   "source": [
    "mal_features[:2]"
   ]
  },
  {
   "cell_type": "code",
   "execution_count": 19,
   "metadata": {},
   "outputs": [
    {
     "data": {
      "text/plain": [
       "58"
      ]
     },
     "execution_count": 19,
     "metadata": {},
     "output_type": "execute_result"
    }
   ],
   "source": [
    "(len((mal_features)))"
   ]
  },
  {
   "cell_type": "code",
   "execution_count": 20,
   "metadata": {},
   "outputs": [],
   "source": [
    "tmp = [y for x in mal_features for y in x]"
   ]
  },
  {
   "cell_type": "code",
   "execution_count": 21,
   "metadata": {},
   "outputs": [
    {
     "data": {
      "text/plain": [
       "1013"
      ]
     },
     "execution_count": 21,
     "metadata": {},
     "output_type": "execute_result"
    }
   ],
   "source": [
    "len(tmp)"
   ]
  },
  {
   "cell_type": "code",
   "execution_count": 22,
   "metadata": {},
   "outputs": [],
   "source": [
    "mal_feature_set =set(tmp)"
   ]
  },
  {
   "cell_type": "code",
   "execution_count": 23,
   "metadata": {},
   "outputs": [
    {
     "data": {
      "text/plain": [
       "68"
      ]
     },
     "execution_count": 23,
     "metadata": {},
     "output_type": "execute_result"
    }
   ],
   "source": [
    "len(mal_feature_set )"
   ]
  },
  {
   "cell_type": "code",
   "execution_count": 24,
   "metadata": {},
   "outputs": [],
   "source": [
    "result =dict()"
   ]
  },
  {
   "cell_type": "code",
   "execution_count": 29,
   "metadata": {},
   "outputs": [],
   "source": [
    "key = total_feature\n",
    "val = [0 for i in range(len(total_feature))]"
   ]
  },
  {
   "cell_type": "code",
   "execution_count": 30,
   "metadata": {},
   "outputs": [],
   "source": [
    "result = dict(zip(total_feature, [0 for i in range(len(total_feature))]))"
   ]
  },
  {
   "cell_type": "code",
   "execution_count": null,
   "metadata": {},
   "outputs": [],
   "source": []
  },
  {
   "cell_type": "code",
   "execution_count": 38,
   "metadata": {},
   "outputs": [
    {
     "data": {
      "text/html": [
       "<div>\n",
       "<style scoped>\n",
       "    .dataframe tbody tr th:only-of-type {\n",
       "        vertical-align: middle;\n",
       "    }\n",
       "\n",
       "    .dataframe tbody tr th {\n",
       "        vertical-align: top;\n",
       "    }\n",
       "\n",
       "    .dataframe thead th {\n",
       "        text-align: right;\n",
       "    }\n",
       "</style>\n",
       "<table border=\"1\" class=\"dataframe\">\n",
       "  <thead>\n",
       "    <tr style=\"text-align: right;\">\n",
       "      <th></th>\n",
       "      <th>word/media/image4.jpeg</th>\n",
       "      <th>docProps/thumbnail.emf</th>\n",
       "      <th>word/media/image18.jpeg</th>\n",
       "      <th>customXml/item3.xml</th>\n",
       "      <th>word/endnotes.xml</th>\n",
       "      <th>word/media/image27.jpeg</th>\n",
       "      <th>word/_rels/header1.xml.rels</th>\n",
       "      <th>word/theme/theme1.xml</th>\n",
       "      <th>word/media/image2.jpeg</th>\n",
       "      <th>word/media/image2.emf</th>\n",
       "      <th>...</th>\n",
       "      <th>word/media/image8.png</th>\n",
       "      <th>[Content_Types].xml</th>\n",
       "      <th>word/media/image1.emf</th>\n",
       "      <th>word/_rels/customizations.xml.rels</th>\n",
       "      <th>word/document.xml</th>\n",
       "      <th>word/media/image25.jpeg</th>\n",
       "      <th>word/embeddings/oleObject2.bin</th>\n",
       "      <th>word/media/image8.jpeg</th>\n",
       "      <th>word/numbering.xml</th>\n",
       "      <th>label</th>\n",
       "    </tr>\n",
       "  </thead>\n",
       "  <tbody>\n",
       "  </tbody>\n",
       "</table>\n",
       "<p>0 rows × 112 columns</p>\n",
       "</div>"
      ],
      "text/plain": [
       "Empty DataFrame\n",
       "Columns: [word/media/image4.jpeg, docProps/thumbnail.emf, word/media/image18.jpeg, customXml/item3.xml, word/endnotes.xml, word/media/image27.jpeg, word/_rels/header1.xml.rels, word/theme/theme1.xml, word/media/image2.jpeg, word/media/image2.emf, word/_rels/vbaProject.bin.rels, word/_rels/document.xml.rels, word/commentsExtended.xml, word/media/image1.jpeg, word/media/image5.jpeg, word/media/image21.jpeg, customXml/itemProps3.xml, word/media/image14.jpeg, word/media/image10.jpeg, _rels/.rels, word/_rels/webSettings.xml.rels, customXml/item2.xml, word/printerSettings/printerSettings1.bin, word/media/image1.png, word/media/image3.emf, customXml/itemProps1.xml, word/footer1.xml, word/glossary/_rels/document.xml.rels, word/media/image13.jpeg, word/_rels/footnotes.xml.rels, word/settings.xml, docProps/app.xml, word/media/image3.png, word/customizations.xml, word/media/image16.jpeg, word/media/image15.jpeg, word/media/image23.jpeg, word/media/image4.png, word/charts/chart1.xml, word/charts/_rels/chart1.xml.rels, docProps/custom.xml, word/header1.xml, docProps/core.xml, word/media/image20.jpeg, word/footnotes.xml, word/footer2.xml, word/stylesWithEffects.xml, word/header2.xml, word/media/image4.emf, word/_rels/header3.xml.rels, word/media/image1.jpg, word/_rels/endnotes.xml.rels, word/media/image7.jpeg, customXml/itemProps2.xml, word/glossary/numbering.xml, word/styles.xml, word/webSettings.xml, word/glossary/endnotes.xml, word/embeddings/oleObject3.bin, word/media/image2.wmf, word/glossary/document.xml, word/_rels/numbering.xml.rels, word/media/image3.jpeg, word/media/image11.jpeg, word/media/image12.jpeg, word/glossary/settings.xml, word/header3.xml, word/_rels/comments.xml.rels, customXml/item1.xml, word/media/image6.png, word/attachedToolbars.bin, word/media/image6.jpeg, word/media/image1.wmf, customXml/_rels/item1.xml.rels, word/media/image2.png, word/glossary/footnotes.xml, word/_rels/footer2.xml.rels, word/media/image22.jpeg, word/vbaProject.bin, word/_rels/header2.xml.rels, word/fontTable.xml, word/media/image9.jpeg, customXml/_rels/item2.xml.rels, word/media/image19.jpeg, word/media/image1.gif, word/glossary/stylesWithEffects.xml, word/media/image17.jpeg, word/_rels/settings.xml.rels, docProps/thumbnail.jpeg, word/footer3.xml, word/media/image5.png, word/media/image7.png, word/media/image26.jpeg, customXml/_rels/item3.xml.rels, word/comments.xml, word/glossary/fontTable.xml, word/glossary/webSettings.xml, word/media/image2.gif, word/embeddings/oleObject1.bin, word/vbaData.xml, ...]\n",
       "Index: []\n",
       "\n",
       "[0 rows x 112 columns]"
      ]
     },
     "execution_count": 38,
     "metadata": {},
     "output_type": "execute_result"
    }
   ],
   "source": [
    "result_df = pd.DataFrame(columns = total_feature)\n",
    "result_df"
   ]
  },
  {
   "cell_type": "code",
   "execution_count": 39,
   "metadata": {},
   "outputs": [],
   "source": [
    "idx = 0\n",
    "for i in range(len(mal_file_list)):\n",
    "    result = dict(zip(total_feature, [0 for i in range(len(total_feature))]))\n",
    "    try:\n",
    "        #document will be the filetype zipfile.ZipFile\n",
    "        document = zipfile.ZipFile(os.path.join(mal_file_path, mal_file_list[i]))\n",
    "        feature = document.namelist()\n",
    "        feature_dict = dict(zip(feature, [1 for i in range(len(feature))]))\n",
    "        \n",
    "        for k1 in result:\n",
    "            for k2 in feature_dict:\n",
    "                if(k1==k2):\n",
    "                    result[k1] = 1\n",
    "                    \n",
    "        feature_values = list(result.values())\n",
    "        result_df.loc[idx] = feature_values\n",
    "        idx += 1\n",
    "                    \n",
    "                    \n",
    "                    \n",
    "    except zipfile.BadZipfile:\n",
    "        # the file didn't download correctly\n",
    "        #print (\"BadZipfile: {}\".format(mal_file_list[i]))\n",
    "        continue"
   ]
  },
  {
   "cell_type": "code",
   "execution_count": 40,
   "metadata": {},
   "outputs": [
    {
     "data": {
      "text/plain": [
       "58"
      ]
     },
     "execution_count": 40,
     "metadata": {},
     "output_type": "execute_result"
    }
   ],
   "source": [
    "len(result_df)"
   ]
  },
  {
   "cell_type": "code",
   "execution_count": 41,
   "metadata": {},
   "outputs": [],
   "source": [
    "result_df['label']=1"
   ]
  },
  {
   "cell_type": "code",
   "execution_count": 42,
   "metadata": {},
   "outputs": [
    {
     "data": {
      "text/html": [
       "<div>\n",
       "<style scoped>\n",
       "    .dataframe tbody tr th:only-of-type {\n",
       "        vertical-align: middle;\n",
       "    }\n",
       "\n",
       "    .dataframe tbody tr th {\n",
       "        vertical-align: top;\n",
       "    }\n",
       "\n",
       "    .dataframe thead th {\n",
       "        text-align: right;\n",
       "    }\n",
       "</style>\n",
       "<table border=\"1\" class=\"dataframe\">\n",
       "  <thead>\n",
       "    <tr style=\"text-align: right;\">\n",
       "      <th></th>\n",
       "      <th>word/media/image4.jpeg</th>\n",
       "      <th>docProps/thumbnail.emf</th>\n",
       "      <th>word/media/image18.jpeg</th>\n",
       "      <th>customXml/item3.xml</th>\n",
       "      <th>word/endnotes.xml</th>\n",
       "      <th>word/media/image27.jpeg</th>\n",
       "      <th>word/_rels/header1.xml.rels</th>\n",
       "      <th>word/theme/theme1.xml</th>\n",
       "      <th>word/media/image2.jpeg</th>\n",
       "      <th>word/media/image2.emf</th>\n",
       "      <th>...</th>\n",
       "      <th>word/media/image8.png</th>\n",
       "      <th>[Content_Types].xml</th>\n",
       "      <th>word/media/image1.emf</th>\n",
       "      <th>word/_rels/customizations.xml.rels</th>\n",
       "      <th>word/document.xml</th>\n",
       "      <th>word/media/image25.jpeg</th>\n",
       "      <th>word/embeddings/oleObject2.bin</th>\n",
       "      <th>word/media/image8.jpeg</th>\n",
       "      <th>word/numbering.xml</th>\n",
       "      <th>label</th>\n",
       "    </tr>\n",
       "  </thead>\n",
       "  <tbody>\n",
       "    <tr>\n",
       "      <th>0</th>\n",
       "      <td>0</td>\n",
       "      <td>0</td>\n",
       "      <td>0</td>\n",
       "      <td>0</td>\n",
       "      <td>1</td>\n",
       "      <td>0</td>\n",
       "      <td>0</td>\n",
       "      <td>1</td>\n",
       "      <td>0</td>\n",
       "      <td>0</td>\n",
       "      <td>...</td>\n",
       "      <td>0</td>\n",
       "      <td>1</td>\n",
       "      <td>0</td>\n",
       "      <td>0</td>\n",
       "      <td>1</td>\n",
       "      <td>0</td>\n",
       "      <td>0</td>\n",
       "      <td>0</td>\n",
       "      <td>1</td>\n",
       "      <td>1</td>\n",
       "    </tr>\n",
       "    <tr>\n",
       "      <th>1</th>\n",
       "      <td>0</td>\n",
       "      <td>0</td>\n",
       "      <td>0</td>\n",
       "      <td>0</td>\n",
       "      <td>0</td>\n",
       "      <td>0</td>\n",
       "      <td>0</td>\n",
       "      <td>1</td>\n",
       "      <td>0</td>\n",
       "      <td>0</td>\n",
       "      <td>...</td>\n",
       "      <td>0</td>\n",
       "      <td>1</td>\n",
       "      <td>1</td>\n",
       "      <td>0</td>\n",
       "      <td>1</td>\n",
       "      <td>0</td>\n",
       "      <td>0</td>\n",
       "      <td>0</td>\n",
       "      <td>0</td>\n",
       "      <td>1</td>\n",
       "    </tr>\n",
       "    <tr>\n",
       "      <th>2</th>\n",
       "      <td>0</td>\n",
       "      <td>0</td>\n",
       "      <td>0</td>\n",
       "      <td>0</td>\n",
       "      <td>0</td>\n",
       "      <td>0</td>\n",
       "      <td>0</td>\n",
       "      <td>1</td>\n",
       "      <td>0</td>\n",
       "      <td>1</td>\n",
       "      <td>...</td>\n",
       "      <td>0</td>\n",
       "      <td>1</td>\n",
       "      <td>0</td>\n",
       "      <td>0</td>\n",
       "      <td>1</td>\n",
       "      <td>0</td>\n",
       "      <td>1</td>\n",
       "      <td>0</td>\n",
       "      <td>0</td>\n",
       "      <td>1</td>\n",
       "    </tr>\n",
       "    <tr>\n",
       "      <th>3</th>\n",
       "      <td>0</td>\n",
       "      <td>0</td>\n",
       "      <td>0</td>\n",
       "      <td>0</td>\n",
       "      <td>0</td>\n",
       "      <td>0</td>\n",
       "      <td>0</td>\n",
       "      <td>1</td>\n",
       "      <td>0</td>\n",
       "      <td>0</td>\n",
       "      <td>...</td>\n",
       "      <td>0</td>\n",
       "      <td>1</td>\n",
       "      <td>1</td>\n",
       "      <td>0</td>\n",
       "      <td>1</td>\n",
       "      <td>0</td>\n",
       "      <td>0</td>\n",
       "      <td>0</td>\n",
       "      <td>0</td>\n",
       "      <td>1</td>\n",
       "    </tr>\n",
       "    <tr>\n",
       "      <th>4</th>\n",
       "      <td>0</td>\n",
       "      <td>0</td>\n",
       "      <td>0</td>\n",
       "      <td>0</td>\n",
       "      <td>0</td>\n",
       "      <td>0</td>\n",
       "      <td>0</td>\n",
       "      <td>1</td>\n",
       "      <td>0</td>\n",
       "      <td>0</td>\n",
       "      <td>...</td>\n",
       "      <td>0</td>\n",
       "      <td>1</td>\n",
       "      <td>0</td>\n",
       "      <td>0</td>\n",
       "      <td>1</td>\n",
       "      <td>0</td>\n",
       "      <td>0</td>\n",
       "      <td>0</td>\n",
       "      <td>0</td>\n",
       "      <td>1</td>\n",
       "    </tr>\n",
       "  </tbody>\n",
       "</table>\n",
       "<p>5 rows × 112 columns</p>\n",
       "</div>"
      ],
      "text/plain": [
       "  word/media/image4.jpeg docProps/thumbnail.emf word/media/image18.jpeg  \\\n",
       "0                      0                      0                       0   \n",
       "1                      0                      0                       0   \n",
       "2                      0                      0                       0   \n",
       "3                      0                      0                       0   \n",
       "4                      0                      0                       0   \n",
       "\n",
       "  customXml/item3.xml word/endnotes.xml word/media/image27.jpeg  \\\n",
       "0                   0                 1                       0   \n",
       "1                   0                 0                       0   \n",
       "2                   0                 0                       0   \n",
       "3                   0                 0                       0   \n",
       "4                   0                 0                       0   \n",
       "\n",
       "  word/_rels/header1.xml.rels word/theme/theme1.xml word/media/image2.jpeg  \\\n",
       "0                           0                     1                      0   \n",
       "1                           0                     1                      0   \n",
       "2                           0                     1                      0   \n",
       "3                           0                     1                      0   \n",
       "4                           0                     1                      0   \n",
       "\n",
       "  word/media/image2.emf  ...  word/media/image8.png [Content_Types].xml  \\\n",
       "0                     0  ...                      0                   1   \n",
       "1                     0  ...                      0                   1   \n",
       "2                     1  ...                      0                   1   \n",
       "3                     0  ...                      0                   1   \n",
       "4                     0  ...                      0                   1   \n",
       "\n",
       "  word/media/image1.emf word/_rels/customizations.xml.rels word/document.xml  \\\n",
       "0                     0                                  0                 1   \n",
       "1                     1                                  0                 1   \n",
       "2                     0                                  0                 1   \n",
       "3                     1                                  0                 1   \n",
       "4                     0                                  0                 1   \n",
       "\n",
       "  word/media/image25.jpeg word/embeddings/oleObject2.bin  \\\n",
       "0                       0                              0   \n",
       "1                       0                              0   \n",
       "2                       0                              1   \n",
       "3                       0                              0   \n",
       "4                       0                              0   \n",
       "\n",
       "  word/media/image8.jpeg word/numbering.xml label  \n",
       "0                      0                  1     1  \n",
       "1                      0                  0     1  \n",
       "2                      0                  0     1  \n",
       "3                      0                  0     1  \n",
       "4                      0                  0     1  \n",
       "\n",
       "[5 rows x 112 columns]"
      ]
     },
     "execution_count": 42,
     "metadata": {},
     "output_type": "execute_result"
    }
   ],
   "source": [
    "result_df.head()"
   ]
  },
  {
   "cell_type": "code",
   "execution_count": 133,
   "metadata": {},
   "outputs": [],
   "source": [
    "result_df.to_csv(\"malware_docx.csv\", mode='w', index = None)"
   ]
  },
  {
   "cell_type": "code",
   "execution_count": null,
   "metadata": {},
   "outputs": [],
   "source": []
  },
  {
   "cell_type": "code",
   "execution_count": null,
   "metadata": {},
   "outputs": [],
   "source": []
  },
  {
   "cell_type": "markdown",
   "metadata": {},
   "source": [
    "# Benign "
   ]
  },
  {
   "cell_type": "markdown",
   "metadata": {},
   "source": [
    "Total Benign Feature of Docx (82 files) : 93"
   ]
  },
  {
   "cell_type": "code",
   "execution_count": 22,
   "metadata": {},
   "outputs": [],
   "source": [
    "ben_features = list()\n",
    "for i in range(len(ben_file_list)):\n",
    "    try:\n",
    "        #document will be the filetype zipfile.ZipFile\n",
    "        document = zipfile.ZipFile(os.path.join(ben_file_path, ben_file_list[i]))\n",
    "        f = document.namelist()\n",
    "        ben_features.append(f)\n",
    "\n",
    "    except zipfile.BadZipfile:\n",
    "        # the file didn't download correctly\n",
    "        print (\"BadZipfile: {}\".format(ben_file_list[i]))\n",
    "        continue"
   ]
  },
  {
   "cell_type": "code",
   "execution_count": 23,
   "metadata": {},
   "outputs": [
    {
     "data": {
      "text/plain": [
       "82"
      ]
     },
     "execution_count": 23,
     "metadata": {},
     "output_type": "execute_result"
    }
   ],
   "source": [
    "len(ben_features)"
   ]
  },
  {
   "cell_type": "code",
   "execution_count": 34,
   "metadata": {},
   "outputs": [
    {
     "data": {
      "text/plain": [
       "1157"
      ]
     },
     "execution_count": 34,
     "metadata": {},
     "output_type": "execute_result"
    }
   ],
   "source": [
    "tmp = [y for x in ben_features for y in x]\n",
    "len(tmp)"
   ]
  },
  {
   "cell_type": "code",
   "execution_count": 35,
   "metadata": {},
   "outputs": [],
   "source": [
    "ben_feature_set = set(tmp)"
   ]
  },
  {
   "cell_type": "code",
   "execution_count": 36,
   "metadata": {},
   "outputs": [
    {
     "data": {
      "text/plain": [
       "93"
      ]
     },
     "execution_count": 36,
     "metadata": {},
     "output_type": "execute_result"
    }
   ],
   "source": [
    "len(ben_feature_set)"
   ]
  },
  {
   "cell_type": "code",
   "execution_count": 38,
   "metadata": {},
   "outputs": [],
   "source": [
    "only_mal = (mal_feature_set - ben_feature_set)"
   ]
  },
  {
   "cell_type": "code",
   "execution_count": 39,
   "metadata": {
    "collapsed": true
   },
   "outputs": [
    {
     "data": {
      "text/plain": [
       "{'word/_rels/comments.xml.rels',\n",
       " 'word/_rels/customizations.xml.rels',\n",
       " 'word/_rels/footer2.xml.rels',\n",
       " 'word/_rels/webSettings.xml.rels',\n",
       " 'word/attachedToolbars.bin',\n",
       " 'word/comments.xml',\n",
       " 'word/commentsExtended.xml',\n",
       " 'word/customizations.xml',\n",
       " 'word/embeddings/oleObject2.bin',\n",
       " 'word/embeddings/oleObject3.bin',\n",
       " 'word/glossary/endnotes.xml',\n",
       " 'word/glossary/footnotes.xml',\n",
       " 'word/glossary/numbering.xml',\n",
       " 'word/media/image1.emf',\n",
       " 'word/media/image2.emf',\n",
       " 'word/media/image2.gif',\n",
       " 'word/media/image3.emf',\n",
       " 'word/media/image4.emf'}"
      ]
     },
     "execution_count": 39,
     "metadata": {},
     "output_type": "execute_result"
    }
   ],
   "source": [
    "only_mal"
   ]
  },
  {
   "cell_type": "code",
   "execution_count": 40,
   "metadata": {},
   "outputs": [
    {
     "data": {
      "text/plain": [
       "18"
      ]
     },
     "execution_count": 40,
     "metadata": {},
     "output_type": "execute_result"
    }
   ],
   "source": [
    "len(only_mal)"
   ]
  },
  {
   "cell_type": "code",
   "execution_count": 41,
   "metadata": {},
   "outputs": [],
   "source": [
    "only_ben = (ben_feature_set - mal_feature_set)"
   ]
  },
  {
   "cell_type": "code",
   "execution_count": 42,
   "metadata": {},
   "outputs": [
    {
     "data": {
      "text/plain": [
       "43"
      ]
     },
     "execution_count": 42,
     "metadata": {},
     "output_type": "execute_result"
    }
   ],
   "source": [
    "len(only_ben)"
   ]
  },
  {
   "cell_type": "code",
   "execution_count": 44,
   "metadata": {
    "collapsed": true
   },
   "outputs": [
    {
     "data": {
      "text/plain": [
       "{'customXml/_rels/item2.xml.rels',\n",
       " 'customXml/_rels/item3.xml.rels',\n",
       " 'customXml/item2.xml',\n",
       " 'customXml/item3.xml',\n",
       " 'customXml/itemProps2.xml',\n",
       " 'customXml/itemProps3.xml',\n",
       " 'docProps/thumbnail.jpeg',\n",
       " 'word/_rels/endnotes.xml.rels',\n",
       " 'word/_rels/footnotes.xml.rels',\n",
       " 'word/_rels/header1.xml.rels',\n",
       " 'word/_rels/header2.xml.rels',\n",
       " 'word/_rels/header3.xml.rels',\n",
       " 'word/_rels/numbering.xml.rels',\n",
       " 'word/charts/_rels/chart1.xml.rels',\n",
       " 'word/charts/chart1.xml',\n",
       " 'word/glossary/stylesWithEffects.xml',\n",
       " 'word/media/image1.gif',\n",
       " 'word/media/image1.wmf',\n",
       " 'word/media/image10.jpeg',\n",
       " 'word/media/image11.jpeg',\n",
       " 'word/media/image12.jpeg',\n",
       " 'word/media/image13.jpeg',\n",
       " 'word/media/image14.jpeg',\n",
       " 'word/media/image15.jpeg',\n",
       " 'word/media/image16.jpeg',\n",
       " 'word/media/image17.jpeg',\n",
       " 'word/media/image18.jpeg',\n",
       " 'word/media/image19.jpeg',\n",
       " 'word/media/image2.wmf',\n",
       " 'word/media/image20.jpeg',\n",
       " 'word/media/image21.jpeg',\n",
       " 'word/media/image22.jpeg',\n",
       " 'word/media/image23.jpeg',\n",
       " 'word/media/image24.jpeg',\n",
       " 'word/media/image25.jpeg',\n",
       " 'word/media/image26.jpeg',\n",
       " 'word/media/image27.jpeg',\n",
       " 'word/media/image5.jpeg',\n",
       " 'word/media/image6.jpeg',\n",
       " 'word/media/image7.jpeg',\n",
       " 'word/media/image8.jpeg',\n",
       " 'word/media/image9.jpeg',\n",
       " 'word/printerSettings/printerSettings1.bin'}"
      ]
     },
     "execution_count": 44,
     "metadata": {},
     "output_type": "execute_result"
    }
   ],
   "source": [
    "only_ben"
   ]
  },
  {
   "cell_type": "code",
   "execution_count": 50,
   "metadata": {},
   "outputs": [],
   "source": [
    "total_feature = mal_feature_set | ben_feature_set"
   ]
  },
  {
   "cell_type": "code",
   "execution_count": 52,
   "metadata": {},
   "outputs": [
    {
     "data": {
      "text/plain": [
       "111"
      ]
     },
     "execution_count": 52,
     "metadata": {},
     "output_type": "execute_result"
    }
   ],
   "source": [
    "len(total_feature)"
   ]
  },
  {
   "cell_type": "code",
   "execution_count": 57,
   "metadata": {},
   "outputs": [
    {
     "data": {
      "text/plain": [
       "93"
      ]
     },
     "execution_count": 57,
     "metadata": {},
     "output_type": "execute_result"
    }
   ],
   "source": [
    "len(ben_feature_set)"
   ]
  },
  {
   "cell_type": "code",
   "execution_count": 56,
   "metadata": {},
   "outputs": [],
   "source": [
    "intersection = mal_feature_set & ben_feature_set"
   ]
  },
  {
   "cell_type": "code",
   "execution_count": 54,
   "metadata": {},
   "outputs": [
    {
     "data": {
      "text/plain": [
       "50"
      ]
     },
     "execution_count": 54,
     "metadata": {},
     "output_type": "execute_result"
    }
   ],
   "source": [
    "len(intersection)"
   ]
  },
  {
   "cell_type": "code",
   "execution_count": 147,
   "metadata": {},
   "outputs": [
    {
     "data": {
      "text/html": [
       "<div>\n",
       "<style scoped>\n",
       "    .dataframe tbody tr th:only-of-type {\n",
       "        vertical-align: middle;\n",
       "    }\n",
       "\n",
       "    .dataframe tbody tr th {\n",
       "        vertical-align: top;\n",
       "    }\n",
       "\n",
       "    .dataframe thead th {\n",
       "        text-align: right;\n",
       "    }\n",
       "</style>\n",
       "<table border=\"1\" class=\"dataframe\">\n",
       "  <thead>\n",
       "    <tr style=\"text-align: right;\">\n",
       "      <th></th>\n",
       "      <th>word/media/image4.jpeg</th>\n",
       "      <th>docProps/thumbnail.emf</th>\n",
       "      <th>word/media/image18.jpeg</th>\n",
       "      <th>customXml/item3.xml</th>\n",
       "      <th>word/endnotes.xml</th>\n",
       "      <th>word/media/image27.jpeg</th>\n",
       "      <th>word/_rels/header1.xml.rels</th>\n",
       "      <th>word/theme/theme1.xml</th>\n",
       "      <th>word/media/image2.jpeg</th>\n",
       "      <th>word/media/image2.emf</th>\n",
       "      <th>...</th>\n",
       "      <th>word/media/image24.jpeg</th>\n",
       "      <th>word/media/image8.png</th>\n",
       "      <th>[Content_Types].xml</th>\n",
       "      <th>word/media/image1.emf</th>\n",
       "      <th>word/_rels/customizations.xml.rels</th>\n",
       "      <th>word/document.xml</th>\n",
       "      <th>word/media/image25.jpeg</th>\n",
       "      <th>word/embeddings/oleObject2.bin</th>\n",
       "      <th>word/media/image8.jpeg</th>\n",
       "      <th>word/numbering.xml</th>\n",
       "    </tr>\n",
       "  </thead>\n",
       "  <tbody>\n",
       "  </tbody>\n",
       "</table>\n",
       "<p>0 rows × 111 columns</p>\n",
       "</div>"
      ],
      "text/plain": [
       "Empty DataFrame\n",
       "Columns: [word/media/image4.jpeg, docProps/thumbnail.emf, word/media/image18.jpeg, customXml/item3.xml, word/endnotes.xml, word/media/image27.jpeg, word/_rels/header1.xml.rels, word/theme/theme1.xml, word/media/image2.jpeg, word/media/image2.emf, word/_rels/vbaProject.bin.rels, word/_rels/document.xml.rels, word/commentsExtended.xml, word/media/image1.jpeg, word/media/image5.jpeg, word/media/image21.jpeg, customXml/itemProps3.xml, word/media/image14.jpeg, word/media/image10.jpeg, _rels/.rels, word/_rels/webSettings.xml.rels, customXml/item2.xml, word/printerSettings/printerSettings1.bin, word/media/image1.png, word/media/image3.emf, customXml/itemProps1.xml, word/footer1.xml, word/glossary/_rels/document.xml.rels, word/media/image13.jpeg, word/_rels/footnotes.xml.rels, word/settings.xml, docProps/app.xml, word/media/image3.png, word/customizations.xml, word/media/image16.jpeg, word/media/image15.jpeg, word/media/image23.jpeg, word/media/image4.png, word/charts/chart1.xml, word/charts/_rels/chart1.xml.rels, docProps/custom.xml, word/header1.xml, docProps/core.xml, word/media/image20.jpeg, word/footnotes.xml, word/footer2.xml, word/stylesWithEffects.xml, word/header2.xml, word/media/image4.emf, word/_rels/header3.xml.rels, word/media/image1.jpg, word/_rels/endnotes.xml.rels, word/media/image7.jpeg, customXml/itemProps2.xml, word/glossary/numbering.xml, word/styles.xml, word/webSettings.xml, word/glossary/endnotes.xml, word/embeddings/oleObject3.bin, word/media/image2.wmf, word/glossary/document.xml, word/_rels/numbering.xml.rels, word/media/image3.jpeg, word/media/image11.jpeg, word/media/image12.jpeg, word/glossary/settings.xml, word/header3.xml, word/_rels/comments.xml.rels, customXml/item1.xml, word/media/image6.png, word/attachedToolbars.bin, word/media/image6.jpeg, word/media/image1.wmf, customXml/_rels/item1.xml.rels, word/media/image2.png, word/glossary/footnotes.xml, word/_rels/footer2.xml.rels, word/media/image22.jpeg, word/vbaProject.bin, word/_rels/header2.xml.rels, word/fontTable.xml, word/media/image9.jpeg, customXml/_rels/item2.xml.rels, word/media/image19.jpeg, word/media/image1.gif, word/glossary/stylesWithEffects.xml, word/media/image17.jpeg, word/_rels/settings.xml.rels, docProps/thumbnail.jpeg, word/footer3.xml, word/media/image5.png, word/media/image7.png, word/media/image26.jpeg, customXml/_rels/item3.xml.rels, word/comments.xml, word/glossary/fontTable.xml, word/glossary/webSettings.xml, word/media/image2.gif, word/embeddings/oleObject1.bin, word/vbaData.xml, ...]\n",
       "Index: []\n",
       "\n",
       "[0 rows x 111 columns]"
      ]
     },
     "execution_count": 147,
     "metadata": {},
     "output_type": "execute_result"
    }
   ],
   "source": [
    "result_df = pd.DataFrame(columns = total_feature)\n",
    "result_df"
   ]
  },
  {
   "cell_type": "code",
   "execution_count": 148,
   "metadata": {},
   "outputs": [],
   "source": [
    "idx = 0\n",
    "for i in range(len(ben_file_list)):\n",
    "    result = dict(zip(total_feature, [0 for i in range(len(total_feature))]))\n",
    "    try:\n",
    "        #document will be the filetype zipfile.ZipFile\n",
    "        document = zipfile.ZipFile(os.path.join(ben_file_path, ben_file_list[i]))\n",
    "        feature = document.namelist()\n",
    "        \n",
    "        for i in range(len(feature)):\n",
    "            for k in result:\n",
    "                if(k == feature[i]):\n",
    "                    result[feature[i]]=1\n",
    "                    break\n",
    "            \n",
    "                \n",
    "        feature_values = list(result.values())\n",
    "        result_df.loc[idx] = feature_values\n",
    "        idx += 1\n",
    "                                    \n",
    "    except zipfile.BadZipfile:\n",
    "        # the file didn't download correctly\n",
    "        #print (\"BadZipfile: {}\".format(mal_file_list[i]))\n",
    "        continue"
   ]
  },
  {
   "cell_type": "code",
   "execution_count": 149,
   "metadata": {},
   "outputs": [
    {
     "data": {
      "text/plain": [
       "82"
      ]
     },
     "execution_count": 149,
     "metadata": {},
     "output_type": "execute_result"
    }
   ],
   "source": [
    "len(result_df)"
   ]
  },
  {
   "cell_type": "code",
   "execution_count": 150,
   "metadata": {},
   "outputs": [
    {
     "data": {
      "text/plain": [
       "82"
      ]
     },
     "execution_count": 150,
     "metadata": {},
     "output_type": "execute_result"
    }
   ],
   "source": [
    "len(ben_file_list)"
   ]
  },
  {
   "cell_type": "code",
   "execution_count": 152,
   "metadata": {},
   "outputs": [],
   "source": [
    "result_df['label']=0"
   ]
  },
  {
   "cell_type": "code",
   "execution_count": 153,
   "metadata": {},
   "outputs": [
    {
     "data": {
      "text/html": [
       "<div>\n",
       "<style scoped>\n",
       "    .dataframe tbody tr th:only-of-type {\n",
       "        vertical-align: middle;\n",
       "    }\n",
       "\n",
       "    .dataframe tbody tr th {\n",
       "        vertical-align: top;\n",
       "    }\n",
       "\n",
       "    .dataframe thead th {\n",
       "        text-align: right;\n",
       "    }\n",
       "</style>\n",
       "<table border=\"1\" class=\"dataframe\">\n",
       "  <thead>\n",
       "    <tr style=\"text-align: right;\">\n",
       "      <th></th>\n",
       "      <th>word/media/image4.jpeg</th>\n",
       "      <th>docProps/thumbnail.emf</th>\n",
       "      <th>word/media/image18.jpeg</th>\n",
       "      <th>customXml/item3.xml</th>\n",
       "      <th>word/endnotes.xml</th>\n",
       "      <th>word/media/image27.jpeg</th>\n",
       "      <th>word/_rels/header1.xml.rels</th>\n",
       "      <th>word/theme/theme1.xml</th>\n",
       "      <th>word/media/image2.jpeg</th>\n",
       "      <th>word/media/image2.emf</th>\n",
       "      <th>...</th>\n",
       "      <th>word/media/image8.png</th>\n",
       "      <th>[Content_Types].xml</th>\n",
       "      <th>word/media/image1.emf</th>\n",
       "      <th>word/_rels/customizations.xml.rels</th>\n",
       "      <th>word/document.xml</th>\n",
       "      <th>word/media/image25.jpeg</th>\n",
       "      <th>word/embeddings/oleObject2.bin</th>\n",
       "      <th>word/media/image8.jpeg</th>\n",
       "      <th>word/numbering.xml</th>\n",
       "      <th>label</th>\n",
       "    </tr>\n",
       "  </thead>\n",
       "  <tbody>\n",
       "    <tr>\n",
       "      <th>0</th>\n",
       "      <td>0</td>\n",
       "      <td>0</td>\n",
       "      <td>0</td>\n",
       "      <td>0</td>\n",
       "      <td>0</td>\n",
       "      <td>0</td>\n",
       "      <td>0</td>\n",
       "      <td>1</td>\n",
       "      <td>0</td>\n",
       "      <td>0</td>\n",
       "      <td>...</td>\n",
       "      <td>0</td>\n",
       "      <td>1</td>\n",
       "      <td>0</td>\n",
       "      <td>0</td>\n",
       "      <td>1</td>\n",
       "      <td>0</td>\n",
       "      <td>0</td>\n",
       "      <td>0</td>\n",
       "      <td>0</td>\n",
       "      <td>0</td>\n",
       "    </tr>\n",
       "    <tr>\n",
       "      <th>1</th>\n",
       "      <td>0</td>\n",
       "      <td>0</td>\n",
       "      <td>0</td>\n",
       "      <td>0</td>\n",
       "      <td>0</td>\n",
       "      <td>0</td>\n",
       "      <td>0</td>\n",
       "      <td>1</td>\n",
       "      <td>0</td>\n",
       "      <td>0</td>\n",
       "      <td>...</td>\n",
       "      <td>0</td>\n",
       "      <td>1</td>\n",
       "      <td>0</td>\n",
       "      <td>0</td>\n",
       "      <td>1</td>\n",
       "      <td>0</td>\n",
       "      <td>0</td>\n",
       "      <td>0</td>\n",
       "      <td>0</td>\n",
       "      <td>0</td>\n",
       "    </tr>\n",
       "    <tr>\n",
       "      <th>2</th>\n",
       "      <td>0</td>\n",
       "      <td>0</td>\n",
       "      <td>0</td>\n",
       "      <td>0</td>\n",
       "      <td>0</td>\n",
       "      <td>0</td>\n",
       "      <td>0</td>\n",
       "      <td>1</td>\n",
       "      <td>0</td>\n",
       "      <td>0</td>\n",
       "      <td>...</td>\n",
       "      <td>0</td>\n",
       "      <td>1</td>\n",
       "      <td>0</td>\n",
       "      <td>0</td>\n",
       "      <td>1</td>\n",
       "      <td>0</td>\n",
       "      <td>0</td>\n",
       "      <td>0</td>\n",
       "      <td>0</td>\n",
       "      <td>0</td>\n",
       "    </tr>\n",
       "    <tr>\n",
       "      <th>3</th>\n",
       "      <td>0</td>\n",
       "      <td>0</td>\n",
       "      <td>0</td>\n",
       "      <td>0</td>\n",
       "      <td>0</td>\n",
       "      <td>0</td>\n",
       "      <td>0</td>\n",
       "      <td>1</td>\n",
       "      <td>0</td>\n",
       "      <td>0</td>\n",
       "      <td>...</td>\n",
       "      <td>0</td>\n",
       "      <td>1</td>\n",
       "      <td>0</td>\n",
       "      <td>0</td>\n",
       "      <td>1</td>\n",
       "      <td>0</td>\n",
       "      <td>0</td>\n",
       "      <td>0</td>\n",
       "      <td>0</td>\n",
       "      <td>0</td>\n",
       "    </tr>\n",
       "    <tr>\n",
       "      <th>4</th>\n",
       "      <td>0</td>\n",
       "      <td>0</td>\n",
       "      <td>0</td>\n",
       "      <td>0</td>\n",
       "      <td>1</td>\n",
       "      <td>0</td>\n",
       "      <td>0</td>\n",
       "      <td>1</td>\n",
       "      <td>0</td>\n",
       "      <td>0</td>\n",
       "      <td>...</td>\n",
       "      <td>0</td>\n",
       "      <td>1</td>\n",
       "      <td>0</td>\n",
       "      <td>0</td>\n",
       "      <td>1</td>\n",
       "      <td>0</td>\n",
       "      <td>0</td>\n",
       "      <td>0</td>\n",
       "      <td>0</td>\n",
       "      <td>0</td>\n",
       "    </tr>\n",
       "  </tbody>\n",
       "</table>\n",
       "<p>5 rows × 112 columns</p>\n",
       "</div>"
      ],
      "text/plain": [
       "  word/media/image4.jpeg docProps/thumbnail.emf word/media/image18.jpeg  \\\n",
       "0                      0                      0                       0   \n",
       "1                      0                      0                       0   \n",
       "2                      0                      0                       0   \n",
       "3                      0                      0                       0   \n",
       "4                      0                      0                       0   \n",
       "\n",
       "  customXml/item3.xml word/endnotes.xml word/media/image27.jpeg  \\\n",
       "0                   0                 0                       0   \n",
       "1                   0                 0                       0   \n",
       "2                   0                 0                       0   \n",
       "3                   0                 0                       0   \n",
       "4                   0                 1                       0   \n",
       "\n",
       "  word/_rels/header1.xml.rels word/theme/theme1.xml word/media/image2.jpeg  \\\n",
       "0                           0                     1                      0   \n",
       "1                           0                     1                      0   \n",
       "2                           0                     1                      0   \n",
       "3                           0                     1                      0   \n",
       "4                           0                     1                      0   \n",
       "\n",
       "  word/media/image2.emf  ...  word/media/image8.png [Content_Types].xml  \\\n",
       "0                     0  ...                      0                   1   \n",
       "1                     0  ...                      0                   1   \n",
       "2                     0  ...                      0                   1   \n",
       "3                     0  ...                      0                   1   \n",
       "4                     0  ...                      0                   1   \n",
       "\n",
       "  word/media/image1.emf word/_rels/customizations.xml.rels word/document.xml  \\\n",
       "0                     0                                  0                 1   \n",
       "1                     0                                  0                 1   \n",
       "2                     0                                  0                 1   \n",
       "3                     0                                  0                 1   \n",
       "4                     0                                  0                 1   \n",
       "\n",
       "  word/media/image25.jpeg word/embeddings/oleObject2.bin  \\\n",
       "0                       0                              0   \n",
       "1                       0                              0   \n",
       "2                       0                              0   \n",
       "3                       0                              0   \n",
       "4                       0                              0   \n",
       "\n",
       "  word/media/image8.jpeg word/numbering.xml label  \n",
       "0                      0                  0     0  \n",
       "1                      0                  0     0  \n",
       "2                      0                  0     0  \n",
       "3                      0                  0     0  \n",
       "4                      0                  0     0  \n",
       "\n",
       "[5 rows x 112 columns]"
      ]
     },
     "execution_count": 153,
     "metadata": {},
     "output_type": "execute_result"
    }
   ],
   "source": [
    "result_df.head()"
   ]
  },
  {
   "cell_type": "code",
   "execution_count": 154,
   "metadata": {},
   "outputs": [],
   "source": [
    "result_df.to_csv(\"benign_docx.csv\", mode='w', index = None)"
   ]
  },
  {
   "cell_type": "markdown",
   "metadata": {},
   "source": [
    "# Test Malware"
   ]
  },
  {
   "cell_type": "code",
   "execution_count": 325,
   "metadata": {},
   "outputs": [],
   "source": [
    "test_mal_file_path = r'C:\\Users\\lgty\\Desktop\\word\\test_malware'\n",
    "test_mal_file_list = make_file_list(test_mal_file_path)"
   ]
  },
  {
   "cell_type": "code",
   "execution_count": 326,
   "metadata": {},
   "outputs": [
    {
     "data": {
      "text/plain": [
       "10"
      ]
     },
     "execution_count": 326,
     "metadata": {},
     "output_type": "execute_result"
    }
   ],
   "source": [
    "len(test_mal_file_list)"
   ]
  },
  {
   "cell_type": "code",
   "execution_count": 334,
   "metadata": {},
   "outputs": [
    {
     "data": {
      "text/html": [
       "<div>\n",
       "<style scoped>\n",
       "    .dataframe tbody tr th:only-of-type {\n",
       "        vertical-align: middle;\n",
       "    }\n",
       "\n",
       "    .dataframe tbody tr th {\n",
       "        vertical-align: top;\n",
       "    }\n",
       "\n",
       "    .dataframe thead th {\n",
       "        text-align: right;\n",
       "    }\n",
       "</style>\n",
       "<table border=\"1\" class=\"dataframe\">\n",
       "  <thead>\n",
       "    <tr style=\"text-align: right;\">\n",
       "      <th></th>\n",
       "      <th>word/media/image4.jpeg</th>\n",
       "      <th>docProps/thumbnail.emf</th>\n",
       "      <th>word/media/image18.jpeg</th>\n",
       "      <th>customXml/item3.xml</th>\n",
       "      <th>word/endnotes.xml</th>\n",
       "      <th>word/media/image27.jpeg</th>\n",
       "      <th>word/_rels/header1.xml.rels</th>\n",
       "      <th>word/theme/theme1.xml</th>\n",
       "      <th>word/media/image2.jpeg</th>\n",
       "      <th>word/media/image2.emf</th>\n",
       "      <th>...</th>\n",
       "      <th>word/media/image24.jpeg</th>\n",
       "      <th>word/media/image8.png</th>\n",
       "      <th>[Content_Types].xml</th>\n",
       "      <th>word/media/image1.emf</th>\n",
       "      <th>word/_rels/customizations.xml.rels</th>\n",
       "      <th>word/document.xml</th>\n",
       "      <th>word/media/image25.jpeg</th>\n",
       "      <th>word/embeddings/oleObject2.bin</th>\n",
       "      <th>word/media/image8.jpeg</th>\n",
       "      <th>word/numbering.xml</th>\n",
       "    </tr>\n",
       "  </thead>\n",
       "  <tbody>\n",
       "  </tbody>\n",
       "</table>\n",
       "<p>0 rows × 111 columns</p>\n",
       "</div>"
      ],
      "text/plain": [
       "Empty DataFrame\n",
       "Columns: [word/media/image4.jpeg, docProps/thumbnail.emf, word/media/image18.jpeg, customXml/item3.xml, word/endnotes.xml, word/media/image27.jpeg, word/_rels/header1.xml.rels, word/theme/theme1.xml, word/media/image2.jpeg, word/media/image2.emf, word/_rels/vbaProject.bin.rels, word/_rels/document.xml.rels, word/commentsExtended.xml, word/media/image1.jpeg, word/media/image5.jpeg, word/media/image21.jpeg, customXml/itemProps3.xml, word/media/image14.jpeg, word/media/image10.jpeg, _rels/.rels, word/_rels/webSettings.xml.rels, customXml/item2.xml, word/printerSettings/printerSettings1.bin, word/media/image1.png, word/media/image3.emf, customXml/itemProps1.xml, word/footer1.xml, word/glossary/_rels/document.xml.rels, word/media/image13.jpeg, word/_rels/footnotes.xml.rels, word/settings.xml, docProps/app.xml, word/media/image3.png, word/customizations.xml, word/media/image16.jpeg, word/media/image15.jpeg, word/media/image23.jpeg, word/media/image4.png, word/charts/chart1.xml, word/charts/_rels/chart1.xml.rels, docProps/custom.xml, word/header1.xml, docProps/core.xml, word/media/image20.jpeg, word/footnotes.xml, word/footer2.xml, word/stylesWithEffects.xml, word/header2.xml, word/media/image4.emf, word/_rels/header3.xml.rels, word/media/image1.jpg, word/_rels/endnotes.xml.rels, word/media/image7.jpeg, customXml/itemProps2.xml, word/glossary/numbering.xml, word/styles.xml, word/webSettings.xml, word/glossary/endnotes.xml, word/embeddings/oleObject3.bin, word/media/image2.wmf, word/glossary/document.xml, word/_rels/numbering.xml.rels, word/media/image3.jpeg, word/media/image11.jpeg, word/media/image12.jpeg, word/glossary/settings.xml, word/header3.xml, word/_rels/comments.xml.rels, customXml/item1.xml, word/media/image6.png, word/attachedToolbars.bin, word/media/image6.jpeg, word/media/image1.wmf, customXml/_rels/item1.xml.rels, word/media/image2.png, word/glossary/footnotes.xml, word/_rels/footer2.xml.rels, word/media/image22.jpeg, word/vbaProject.bin, word/_rels/header2.xml.rels, word/fontTable.xml, word/media/image9.jpeg, customXml/_rels/item2.xml.rels, word/media/image19.jpeg, word/media/image1.gif, word/glossary/stylesWithEffects.xml, word/media/image17.jpeg, word/_rels/settings.xml.rels, docProps/thumbnail.jpeg, word/footer3.xml, word/media/image5.png, word/media/image7.png, word/media/image26.jpeg, customXml/_rels/item3.xml.rels, word/comments.xml, word/glossary/fontTable.xml, word/glossary/webSettings.xml, word/media/image2.gif, word/embeddings/oleObject1.bin, word/vbaData.xml, ...]\n",
       "Index: []\n",
       "\n",
       "[0 rows x 111 columns]"
      ]
     },
     "execution_count": 334,
     "metadata": {},
     "output_type": "execute_result"
    }
   ],
   "source": [
    "result_df = pd.DataFrame(columns = total_feature)\n",
    "result_df"
   ]
  },
  {
   "cell_type": "code",
   "execution_count": 335,
   "metadata": {},
   "outputs": [],
   "source": [
    "idx = 0\n",
    "for i in range(len(test_mal_file_list)):\n",
    "    result = dict(zip(total_feature, [0 for i in range(len(total_feature))]))\n",
    "    try:\n",
    "        #document will be the filetype zipfile.ZipFile\n",
    "        document = zipfile.ZipFile(os.path.join(test_mal_file_path, test_mal_file_list[i]))\n",
    "        feature = document.namelist()\n",
    "\n",
    "        for i in range(len(feature)):\n",
    "            for k in result:\n",
    "                if(k == feature[i]):\n",
    "                    result[feature[i]]=1\n",
    "                    break\n",
    "            \n",
    "        feature_values = list(result.values())\n",
    "        result_df.loc[idx] = feature_values\n",
    "        idx += 1\n",
    "        #print(len(result))\n",
    "        #tmp_df = pd.DataFrame.from_dict(result, orient = 'index').T\n",
    "        #result_df = pd.concat([result_df, tmp_df])\n",
    "\n",
    "    except zipfile.BadZipfile:\n",
    "        # the file didn't download correctly\n",
    "        #print (\"BadZipfile: {}\".format(mal_file_list[i]))\n",
    "        continue"
   ]
  },
  {
   "cell_type": "code",
   "execution_count": 336,
   "metadata": {},
   "outputs": [
    {
     "data": {
      "text/html": [
       "<div>\n",
       "<style scoped>\n",
       "    .dataframe tbody tr th:only-of-type {\n",
       "        vertical-align: middle;\n",
       "    }\n",
       "\n",
       "    .dataframe tbody tr th {\n",
       "        vertical-align: top;\n",
       "    }\n",
       "\n",
       "    .dataframe thead th {\n",
       "        text-align: right;\n",
       "    }\n",
       "</style>\n",
       "<table border=\"1\" class=\"dataframe\">\n",
       "  <thead>\n",
       "    <tr style=\"text-align: right;\">\n",
       "      <th></th>\n",
       "      <th>word/media/image4.jpeg</th>\n",
       "      <th>docProps/thumbnail.emf</th>\n",
       "      <th>word/media/image18.jpeg</th>\n",
       "      <th>customXml/item3.xml</th>\n",
       "      <th>word/endnotes.xml</th>\n",
       "      <th>word/media/image27.jpeg</th>\n",
       "      <th>word/_rels/header1.xml.rels</th>\n",
       "      <th>word/theme/theme1.xml</th>\n",
       "      <th>word/media/image2.jpeg</th>\n",
       "      <th>word/media/image2.emf</th>\n",
       "      <th>...</th>\n",
       "      <th>word/media/image24.jpeg</th>\n",
       "      <th>word/media/image8.png</th>\n",
       "      <th>[Content_Types].xml</th>\n",
       "      <th>word/media/image1.emf</th>\n",
       "      <th>word/_rels/customizations.xml.rels</th>\n",
       "      <th>word/document.xml</th>\n",
       "      <th>word/media/image25.jpeg</th>\n",
       "      <th>word/embeddings/oleObject2.bin</th>\n",
       "      <th>word/media/image8.jpeg</th>\n",
       "      <th>word/numbering.xml</th>\n",
       "    </tr>\n",
       "  </thead>\n",
       "  <tbody>\n",
       "    <tr>\n",
       "      <th>0</th>\n",
       "      <td>0</td>\n",
       "      <td>0</td>\n",
       "      <td>0</td>\n",
       "      <td>0</td>\n",
       "      <td>0</td>\n",
       "      <td>0</td>\n",
       "      <td>0</td>\n",
       "      <td>1</td>\n",
       "      <td>0</td>\n",
       "      <td>0</td>\n",
       "      <td>...</td>\n",
       "      <td>0</td>\n",
       "      <td>0</td>\n",
       "      <td>1</td>\n",
       "      <td>0</td>\n",
       "      <td>0</td>\n",
       "      <td>1</td>\n",
       "      <td>0</td>\n",
       "      <td>0</td>\n",
       "      <td>0</td>\n",
       "      <td>0</td>\n",
       "    </tr>\n",
       "    <tr>\n",
       "      <th>1</th>\n",
       "      <td>0</td>\n",
       "      <td>0</td>\n",
       "      <td>0</td>\n",
       "      <td>0</td>\n",
       "      <td>0</td>\n",
       "      <td>0</td>\n",
       "      <td>0</td>\n",
       "      <td>1</td>\n",
       "      <td>1</td>\n",
       "      <td>0</td>\n",
       "      <td>...</td>\n",
       "      <td>0</td>\n",
       "      <td>0</td>\n",
       "      <td>1</td>\n",
       "      <td>0</td>\n",
       "      <td>0</td>\n",
       "      <td>1</td>\n",
       "      <td>0</td>\n",
       "      <td>0</td>\n",
       "      <td>0</td>\n",
       "      <td>0</td>\n",
       "    </tr>\n",
       "    <tr>\n",
       "      <th>2</th>\n",
       "      <td>0</td>\n",
       "      <td>0</td>\n",
       "      <td>0</td>\n",
       "      <td>0</td>\n",
       "      <td>0</td>\n",
       "      <td>0</td>\n",
       "      <td>0</td>\n",
       "      <td>1</td>\n",
       "      <td>0</td>\n",
       "      <td>0</td>\n",
       "      <td>...</td>\n",
       "      <td>0</td>\n",
       "      <td>0</td>\n",
       "      <td>1</td>\n",
       "      <td>0</td>\n",
       "      <td>0</td>\n",
       "      <td>1</td>\n",
       "      <td>0</td>\n",
       "      <td>0</td>\n",
       "      <td>0</td>\n",
       "      <td>0</td>\n",
       "    </tr>\n",
       "    <tr>\n",
       "      <th>3</th>\n",
       "      <td>0</td>\n",
       "      <td>0</td>\n",
       "      <td>0</td>\n",
       "      <td>0</td>\n",
       "      <td>0</td>\n",
       "      <td>0</td>\n",
       "      <td>0</td>\n",
       "      <td>1</td>\n",
       "      <td>0</td>\n",
       "      <td>0</td>\n",
       "      <td>...</td>\n",
       "      <td>0</td>\n",
       "      <td>0</td>\n",
       "      <td>1</td>\n",
       "      <td>0</td>\n",
       "      <td>0</td>\n",
       "      <td>1</td>\n",
       "      <td>0</td>\n",
       "      <td>0</td>\n",
       "      <td>0</td>\n",
       "      <td>0</td>\n",
       "    </tr>\n",
       "    <tr>\n",
       "      <th>4</th>\n",
       "      <td>0</td>\n",
       "      <td>0</td>\n",
       "      <td>0</td>\n",
       "      <td>0</td>\n",
       "      <td>0</td>\n",
       "      <td>0</td>\n",
       "      <td>0</td>\n",
       "      <td>0</td>\n",
       "      <td>0</td>\n",
       "      <td>0</td>\n",
       "      <td>...</td>\n",
       "      <td>0</td>\n",
       "      <td>0</td>\n",
       "      <td>1</td>\n",
       "      <td>0</td>\n",
       "      <td>0</td>\n",
       "      <td>0</td>\n",
       "      <td>0</td>\n",
       "      <td>0</td>\n",
       "      <td>0</td>\n",
       "      <td>0</td>\n",
       "    </tr>\n",
       "    <tr>\n",
       "      <th>5</th>\n",
       "      <td>0</td>\n",
       "      <td>0</td>\n",
       "      <td>0</td>\n",
       "      <td>0</td>\n",
       "      <td>1</td>\n",
       "      <td>0</td>\n",
       "      <td>1</td>\n",
       "      <td>1</td>\n",
       "      <td>0</td>\n",
       "      <td>0</td>\n",
       "      <td>...</td>\n",
       "      <td>0</td>\n",
       "      <td>1</td>\n",
       "      <td>1</td>\n",
       "      <td>0</td>\n",
       "      <td>0</td>\n",
       "      <td>1</td>\n",
       "      <td>0</td>\n",
       "      <td>0</td>\n",
       "      <td>0</td>\n",
       "      <td>1</td>\n",
       "    </tr>\n",
       "    <tr>\n",
       "      <th>6</th>\n",
       "      <td>0</td>\n",
       "      <td>0</td>\n",
       "      <td>0</td>\n",
       "      <td>0</td>\n",
       "      <td>0</td>\n",
       "      <td>0</td>\n",
       "      <td>0</td>\n",
       "      <td>1</td>\n",
       "      <td>0</td>\n",
       "      <td>0</td>\n",
       "      <td>...</td>\n",
       "      <td>0</td>\n",
       "      <td>0</td>\n",
       "      <td>1</td>\n",
       "      <td>0</td>\n",
       "      <td>0</td>\n",
       "      <td>1</td>\n",
       "      <td>0</td>\n",
       "      <td>0</td>\n",
       "      <td>0</td>\n",
       "      <td>0</td>\n",
       "    </tr>\n",
       "    <tr>\n",
       "      <th>7</th>\n",
       "      <td>0</td>\n",
       "      <td>0</td>\n",
       "      <td>0</td>\n",
       "      <td>0</td>\n",
       "      <td>0</td>\n",
       "      <td>0</td>\n",
       "      <td>0</td>\n",
       "      <td>0</td>\n",
       "      <td>0</td>\n",
       "      <td>0</td>\n",
       "      <td>...</td>\n",
       "      <td>0</td>\n",
       "      <td>0</td>\n",
       "      <td>1</td>\n",
       "      <td>0</td>\n",
       "      <td>0</td>\n",
       "      <td>0</td>\n",
       "      <td>0</td>\n",
       "      <td>0</td>\n",
       "      <td>0</td>\n",
       "      <td>0</td>\n",
       "    </tr>\n",
       "    <tr>\n",
       "      <th>8</th>\n",
       "      <td>0</td>\n",
       "      <td>0</td>\n",
       "      <td>0</td>\n",
       "      <td>0</td>\n",
       "      <td>0</td>\n",
       "      <td>0</td>\n",
       "      <td>0</td>\n",
       "      <td>1</td>\n",
       "      <td>0</td>\n",
       "      <td>0</td>\n",
       "      <td>...</td>\n",
       "      <td>0</td>\n",
       "      <td>0</td>\n",
       "      <td>1</td>\n",
       "      <td>0</td>\n",
       "      <td>0</td>\n",
       "      <td>1</td>\n",
       "      <td>0</td>\n",
       "      <td>0</td>\n",
       "      <td>0</td>\n",
       "      <td>0</td>\n",
       "    </tr>\n",
       "  </tbody>\n",
       "</table>\n",
       "<p>9 rows × 111 columns</p>\n",
       "</div>"
      ],
      "text/plain": [
       "  word/media/image4.jpeg docProps/thumbnail.emf word/media/image18.jpeg  \\\n",
       "0                      0                      0                       0   \n",
       "1                      0                      0                       0   \n",
       "2                      0                      0                       0   \n",
       "3                      0                      0                       0   \n",
       "4                      0                      0                       0   \n",
       "5                      0                      0                       0   \n",
       "6                      0                      0                       0   \n",
       "7                      0                      0                       0   \n",
       "8                      0                      0                       0   \n",
       "\n",
       "  customXml/item3.xml word/endnotes.xml word/media/image27.jpeg  \\\n",
       "0                   0                 0                       0   \n",
       "1                   0                 0                       0   \n",
       "2                   0                 0                       0   \n",
       "3                   0                 0                       0   \n",
       "4                   0                 0                       0   \n",
       "5                   0                 1                       0   \n",
       "6                   0                 0                       0   \n",
       "7                   0                 0                       0   \n",
       "8                   0                 0                       0   \n",
       "\n",
       "  word/_rels/header1.xml.rels word/theme/theme1.xml word/media/image2.jpeg  \\\n",
       "0                           0                     1                      0   \n",
       "1                           0                     1                      1   \n",
       "2                           0                     1                      0   \n",
       "3                           0                     1                      0   \n",
       "4                           0                     0                      0   \n",
       "5                           1                     1                      0   \n",
       "6                           0                     1                      0   \n",
       "7                           0                     0                      0   \n",
       "8                           0                     1                      0   \n",
       "\n",
       "  word/media/image2.emf        ...         word/media/image24.jpeg  \\\n",
       "0                     0        ...                               0   \n",
       "1                     0        ...                               0   \n",
       "2                     0        ...                               0   \n",
       "3                     0        ...                               0   \n",
       "4                     0        ...                               0   \n",
       "5                     0        ...                               0   \n",
       "6                     0        ...                               0   \n",
       "7                     0        ...                               0   \n",
       "8                     0        ...                               0   \n",
       "\n",
       "  word/media/image8.png [Content_Types].xml word/media/image1.emf  \\\n",
       "0                     0                   1                     0   \n",
       "1                     0                   1                     0   \n",
       "2                     0                   1                     0   \n",
       "3                     0                   1                     0   \n",
       "4                     0                   1                     0   \n",
       "5                     1                   1                     0   \n",
       "6                     0                   1                     0   \n",
       "7                     0                   1                     0   \n",
       "8                     0                   1                     0   \n",
       "\n",
       "  word/_rels/customizations.xml.rels word/document.xml  \\\n",
       "0                                  0                 1   \n",
       "1                                  0                 1   \n",
       "2                                  0                 1   \n",
       "3                                  0                 1   \n",
       "4                                  0                 0   \n",
       "5                                  0                 1   \n",
       "6                                  0                 1   \n",
       "7                                  0                 0   \n",
       "8                                  0                 1   \n",
       "\n",
       "  word/media/image25.jpeg word/embeddings/oleObject2.bin  \\\n",
       "0                       0                              0   \n",
       "1                       0                              0   \n",
       "2                       0                              0   \n",
       "3                       0                              0   \n",
       "4                       0                              0   \n",
       "5                       0                              0   \n",
       "6                       0                              0   \n",
       "7                       0                              0   \n",
       "8                       0                              0   \n",
       "\n",
       "  word/media/image8.jpeg word/numbering.xml  \n",
       "0                      0                  0  \n",
       "1                      0                  0  \n",
       "2                      0                  0  \n",
       "3                      0                  0  \n",
       "4                      0                  0  \n",
       "5                      0                  1  \n",
       "6                      0                  0  \n",
       "7                      0                  0  \n",
       "8                      0                  0  \n",
       "\n",
       "[9 rows x 111 columns]"
      ]
     },
     "execution_count": 336,
     "metadata": {},
     "output_type": "execute_result"
    }
   ],
   "source": [
    "result_df"
   ]
  },
  {
   "cell_type": "code",
   "execution_count": 337,
   "metadata": {},
   "outputs": [],
   "source": [
    "result_df['label'] = 1"
   ]
  },
  {
   "cell_type": "code",
   "execution_count": 338,
   "metadata": {},
   "outputs": [],
   "source": [
    "result_df.to_csv(\"test_malware_docx.csv\", mode='w', index = None)"
   ]
  },
  {
   "cell_type": "code",
   "execution_count": null,
   "metadata": {},
   "outputs": [],
   "source": []
  },
  {
   "cell_type": "code",
   "execution_count": null,
   "metadata": {},
   "outputs": [],
   "source": []
  },
  {
   "cell_type": "code",
   "execution_count": null,
   "metadata": {},
   "outputs": [],
   "source": []
  },
  {
   "cell_type": "markdown",
   "metadata": {},
   "source": [
    "# Train"
   ]
  },
  {
   "cell_type": "code",
   "execution_count": 339,
   "metadata": {},
   "outputs": [
    {
     "data": {
      "text/plain": [
       "RandomForestClassifier(bootstrap=True, class_weight=None, criterion='entropy',\n",
       "            max_depth=None, max_features='auto', max_leaf_nodes=None,\n",
       "            min_impurity_decrease=0.0, min_impurity_split=None,\n",
       "            min_samples_leaf=1, min_samples_split=2,\n",
       "            min_weight_fraction_leaf=0.0, n_estimators=10, n_jobs=3,\n",
       "            oob_score=False, random_state=1, verbose=0, warm_start=False)"
      ]
     },
     "execution_count": 339,
     "metadata": {},
     "output_type": "execute_result"
    }
   ],
   "source": [
    "from sklearn.ensemble import RandomForestClassifier\n",
    "\n",
    "# 랜덤포레스트 분류기를 사용\n",
    "forest = RandomForestClassifier(criterion='entropy', n_estimators = 10, \n",
    "                                n_jobs = 3, random_state = 1)\n",
    "\n",
    "forest"
   ]
  },
  {
   "cell_type": "code",
   "execution_count": 305,
   "metadata": {},
   "outputs": [],
   "source": [
    "mal_train = pd.read_csv('malware_docx.csv')\n",
    "ben_train = pd.read_csv('benign_docx.csv')"
   ]
  },
  {
   "cell_type": "code",
   "execution_count": 306,
   "metadata": {},
   "outputs": [],
   "source": [
    "train = pd.concat([mal_train, ben_train])"
   ]
  },
  {
   "cell_type": "code",
   "execution_count": 307,
   "metadata": {},
   "outputs": [],
   "source": [
    "train = train.reset_index(drop=True)"
   ]
  },
  {
   "cell_type": "code",
   "execution_count": 308,
   "metadata": {},
   "outputs": [
    {
     "data": {
      "text/plain": [
       "140"
      ]
     },
     "execution_count": 308,
     "metadata": {},
     "output_type": "execute_result"
    }
   ],
   "source": [
    "len(train)"
   ]
  },
  {
   "cell_type": "code",
   "execution_count": 310,
   "metadata": {},
   "outputs": [],
   "source": [
    "train_label = list(train['label'])"
   ]
  },
  {
   "cell_type": "code",
   "execution_count": 311,
   "metadata": {},
   "outputs": [
    {
     "data": {
      "text/plain": [
       "140"
      ]
     },
     "execution_count": 311,
     "metadata": {},
     "output_type": "execute_result"
    }
   ],
   "source": [
    "len(train_label)"
   ]
  },
  {
   "cell_type": "code",
   "execution_count": 312,
   "metadata": {},
   "outputs": [],
   "source": [
    "train_data_feature = train"
   ]
  },
  {
   "cell_type": "code",
   "execution_count": 313,
   "metadata": {},
   "outputs": [],
   "source": [
    "del train_data_feature['label']"
   ]
  },
  {
   "cell_type": "code",
   "execution_count": 318,
   "metadata": {},
   "outputs": [],
   "source": [
    "train_data_features = []\n",
    "for i in range(len(train_data_feature)):\n",
    "    t = list(train_data_feature.loc[i])\n",
    "    train_data_features.append(t)"
   ]
  },
  {
   "cell_type": "code",
   "execution_count": 320,
   "metadata": {},
   "outputs": [
    {
     "data": {
      "text/plain": [
       "140"
      ]
     },
     "execution_count": 320,
     "metadata": {},
     "output_type": "execute_result"
    }
   ],
   "source": [
    "len(train_data_features)"
   ]
  },
  {
   "cell_type": "code",
   "execution_count": 350,
   "metadata": {},
   "outputs": [],
   "source": [
    "train_data_features = np.array(train_data_features)"
   ]
  },
  {
   "cell_type": "code",
   "execution_count": 351,
   "metadata": {},
   "outputs": [
    {
     "name": "stdout",
     "output_type": "stream",
     "text": [
      "Wall time: 120 ms\n"
     ]
    }
   ],
   "source": [
    "%time forest = forest.fit(train_data_features, train_label)"
   ]
  },
  {
   "cell_type": "code",
   "execution_count": 352,
   "metadata": {},
   "outputs": [
    {
     "name": "stdout",
     "output_type": "stream",
     "text": [
      "Wall time: 2.4 s\n"
     ]
    }
   ],
   "source": [
    "from sklearn.model_selection import cross_val_score\n",
    "\n",
    "%time score= np.mean(cross_val_score(\\\n",
    "            forest, train_data_features, \\\n",
    "            train_label, cv=10))"
   ]
  },
  {
   "cell_type": "code",
   "execution_count": 353,
   "metadata": {},
   "outputs": [
    {
     "data": {
      "text/plain": [
       "0.8635164835164835"
      ]
     },
     "execution_count": 353,
     "metadata": {},
     "output_type": "execute_result"
    }
   ],
   "source": [
    "score"
   ]
  },
  {
   "cell_type": "code",
   "execution_count": null,
   "metadata": {},
   "outputs": [],
   "source": []
  },
  {
   "cell_type": "code",
   "execution_count": 340,
   "metadata": {},
   "outputs": [],
   "source": [
    "mal_test =  pd.read_csv('test_malware_docx.csv')"
   ]
  },
  {
   "cell_type": "code",
   "execution_count": 341,
   "metadata": {},
   "outputs": [],
   "source": [
    "test_label = mal_test['label']"
   ]
  },
  {
   "cell_type": "code",
   "execution_count": 342,
   "metadata": {},
   "outputs": [
    {
     "data": {
      "text/plain": [
       "0    1\n",
       "1    1\n",
       "2    1\n",
       "3    1\n",
       "4    1\n",
       "5    1\n",
       "6    1\n",
       "7    1\n",
       "8    1\n",
       "Name: label, dtype: int64"
      ]
     },
     "execution_count": 342,
     "metadata": {},
     "output_type": "execute_result"
    }
   ],
   "source": [
    "test_label"
   ]
  },
  {
   "cell_type": "code",
   "execution_count": 343,
   "metadata": {},
   "outputs": [],
   "source": [
    "test_mal_feature = mal_test"
   ]
  },
  {
   "cell_type": "code",
   "execution_count": 344,
   "metadata": {},
   "outputs": [],
   "source": [
    "del test_mal_feature['label']"
   ]
  },
  {
   "cell_type": "code",
   "execution_count": 345,
   "metadata": {},
   "outputs": [
    {
     "data": {
      "text/html": [
       "<div>\n",
       "<style scoped>\n",
       "    .dataframe tbody tr th:only-of-type {\n",
       "        vertical-align: middle;\n",
       "    }\n",
       "\n",
       "    .dataframe tbody tr th {\n",
       "        vertical-align: top;\n",
       "    }\n",
       "\n",
       "    .dataframe thead th {\n",
       "        text-align: right;\n",
       "    }\n",
       "</style>\n",
       "<table border=\"1\" class=\"dataframe\">\n",
       "  <thead>\n",
       "    <tr style=\"text-align: right;\">\n",
       "      <th></th>\n",
       "      <th>word/media/image4.jpeg</th>\n",
       "      <th>docProps/thumbnail.emf</th>\n",
       "      <th>word/media/image18.jpeg</th>\n",
       "      <th>customXml/item3.xml</th>\n",
       "      <th>word/endnotes.xml</th>\n",
       "      <th>word/media/image27.jpeg</th>\n",
       "      <th>word/_rels/header1.xml.rels</th>\n",
       "      <th>word/theme/theme1.xml</th>\n",
       "      <th>word/media/image2.jpeg</th>\n",
       "      <th>word/media/image2.emf</th>\n",
       "      <th>...</th>\n",
       "      <th>word/media/image24.jpeg</th>\n",
       "      <th>word/media/image8.png</th>\n",
       "      <th>[Content_Types].xml</th>\n",
       "      <th>word/media/image1.emf</th>\n",
       "      <th>word/_rels/customizations.xml.rels</th>\n",
       "      <th>word/document.xml</th>\n",
       "      <th>word/media/image25.jpeg</th>\n",
       "      <th>word/embeddings/oleObject2.bin</th>\n",
       "      <th>word/media/image8.jpeg</th>\n",
       "      <th>word/numbering.xml</th>\n",
       "    </tr>\n",
       "  </thead>\n",
       "  <tbody>\n",
       "    <tr>\n",
       "      <th>0</th>\n",
       "      <td>0</td>\n",
       "      <td>0</td>\n",
       "      <td>0</td>\n",
       "      <td>0</td>\n",
       "      <td>0</td>\n",
       "      <td>0</td>\n",
       "      <td>0</td>\n",
       "      <td>1</td>\n",
       "      <td>0</td>\n",
       "      <td>0</td>\n",
       "      <td>...</td>\n",
       "      <td>0</td>\n",
       "      <td>0</td>\n",
       "      <td>1</td>\n",
       "      <td>0</td>\n",
       "      <td>0</td>\n",
       "      <td>1</td>\n",
       "      <td>0</td>\n",
       "      <td>0</td>\n",
       "      <td>0</td>\n",
       "      <td>0</td>\n",
       "    </tr>\n",
       "    <tr>\n",
       "      <th>1</th>\n",
       "      <td>0</td>\n",
       "      <td>0</td>\n",
       "      <td>0</td>\n",
       "      <td>0</td>\n",
       "      <td>0</td>\n",
       "      <td>0</td>\n",
       "      <td>0</td>\n",
       "      <td>1</td>\n",
       "      <td>1</td>\n",
       "      <td>0</td>\n",
       "      <td>...</td>\n",
       "      <td>0</td>\n",
       "      <td>0</td>\n",
       "      <td>1</td>\n",
       "      <td>0</td>\n",
       "      <td>0</td>\n",
       "      <td>1</td>\n",
       "      <td>0</td>\n",
       "      <td>0</td>\n",
       "      <td>0</td>\n",
       "      <td>0</td>\n",
       "    </tr>\n",
       "    <tr>\n",
       "      <th>2</th>\n",
       "      <td>0</td>\n",
       "      <td>0</td>\n",
       "      <td>0</td>\n",
       "      <td>0</td>\n",
       "      <td>0</td>\n",
       "      <td>0</td>\n",
       "      <td>0</td>\n",
       "      <td>1</td>\n",
       "      <td>0</td>\n",
       "      <td>0</td>\n",
       "      <td>...</td>\n",
       "      <td>0</td>\n",
       "      <td>0</td>\n",
       "      <td>1</td>\n",
       "      <td>0</td>\n",
       "      <td>0</td>\n",
       "      <td>1</td>\n",
       "      <td>0</td>\n",
       "      <td>0</td>\n",
       "      <td>0</td>\n",
       "      <td>0</td>\n",
       "    </tr>\n",
       "    <tr>\n",
       "      <th>3</th>\n",
       "      <td>0</td>\n",
       "      <td>0</td>\n",
       "      <td>0</td>\n",
       "      <td>0</td>\n",
       "      <td>0</td>\n",
       "      <td>0</td>\n",
       "      <td>0</td>\n",
       "      <td>1</td>\n",
       "      <td>0</td>\n",
       "      <td>0</td>\n",
       "      <td>...</td>\n",
       "      <td>0</td>\n",
       "      <td>0</td>\n",
       "      <td>1</td>\n",
       "      <td>0</td>\n",
       "      <td>0</td>\n",
       "      <td>1</td>\n",
       "      <td>0</td>\n",
       "      <td>0</td>\n",
       "      <td>0</td>\n",
       "      <td>0</td>\n",
       "    </tr>\n",
       "    <tr>\n",
       "      <th>4</th>\n",
       "      <td>0</td>\n",
       "      <td>0</td>\n",
       "      <td>0</td>\n",
       "      <td>0</td>\n",
       "      <td>0</td>\n",
       "      <td>0</td>\n",
       "      <td>0</td>\n",
       "      <td>0</td>\n",
       "      <td>0</td>\n",
       "      <td>0</td>\n",
       "      <td>...</td>\n",
       "      <td>0</td>\n",
       "      <td>0</td>\n",
       "      <td>1</td>\n",
       "      <td>0</td>\n",
       "      <td>0</td>\n",
       "      <td>0</td>\n",
       "      <td>0</td>\n",
       "      <td>0</td>\n",
       "      <td>0</td>\n",
       "      <td>0</td>\n",
       "    </tr>\n",
       "    <tr>\n",
       "      <th>5</th>\n",
       "      <td>0</td>\n",
       "      <td>0</td>\n",
       "      <td>0</td>\n",
       "      <td>0</td>\n",
       "      <td>1</td>\n",
       "      <td>0</td>\n",
       "      <td>1</td>\n",
       "      <td>1</td>\n",
       "      <td>0</td>\n",
       "      <td>0</td>\n",
       "      <td>...</td>\n",
       "      <td>0</td>\n",
       "      <td>1</td>\n",
       "      <td>1</td>\n",
       "      <td>0</td>\n",
       "      <td>0</td>\n",
       "      <td>1</td>\n",
       "      <td>0</td>\n",
       "      <td>0</td>\n",
       "      <td>0</td>\n",
       "      <td>1</td>\n",
       "    </tr>\n",
       "    <tr>\n",
       "      <th>6</th>\n",
       "      <td>0</td>\n",
       "      <td>0</td>\n",
       "      <td>0</td>\n",
       "      <td>0</td>\n",
       "      <td>0</td>\n",
       "      <td>0</td>\n",
       "      <td>0</td>\n",
       "      <td>1</td>\n",
       "      <td>0</td>\n",
       "      <td>0</td>\n",
       "      <td>...</td>\n",
       "      <td>0</td>\n",
       "      <td>0</td>\n",
       "      <td>1</td>\n",
       "      <td>0</td>\n",
       "      <td>0</td>\n",
       "      <td>1</td>\n",
       "      <td>0</td>\n",
       "      <td>0</td>\n",
       "      <td>0</td>\n",
       "      <td>0</td>\n",
       "    </tr>\n",
       "    <tr>\n",
       "      <th>7</th>\n",
       "      <td>0</td>\n",
       "      <td>0</td>\n",
       "      <td>0</td>\n",
       "      <td>0</td>\n",
       "      <td>0</td>\n",
       "      <td>0</td>\n",
       "      <td>0</td>\n",
       "      <td>0</td>\n",
       "      <td>0</td>\n",
       "      <td>0</td>\n",
       "      <td>...</td>\n",
       "      <td>0</td>\n",
       "      <td>0</td>\n",
       "      <td>1</td>\n",
       "      <td>0</td>\n",
       "      <td>0</td>\n",
       "      <td>0</td>\n",
       "      <td>0</td>\n",
       "      <td>0</td>\n",
       "      <td>0</td>\n",
       "      <td>0</td>\n",
       "    </tr>\n",
       "    <tr>\n",
       "      <th>8</th>\n",
       "      <td>0</td>\n",
       "      <td>0</td>\n",
       "      <td>0</td>\n",
       "      <td>0</td>\n",
       "      <td>0</td>\n",
       "      <td>0</td>\n",
       "      <td>0</td>\n",
       "      <td>1</td>\n",
       "      <td>0</td>\n",
       "      <td>0</td>\n",
       "      <td>...</td>\n",
       "      <td>0</td>\n",
       "      <td>0</td>\n",
       "      <td>1</td>\n",
       "      <td>0</td>\n",
       "      <td>0</td>\n",
       "      <td>1</td>\n",
       "      <td>0</td>\n",
       "      <td>0</td>\n",
       "      <td>0</td>\n",
       "      <td>0</td>\n",
       "    </tr>\n",
       "  </tbody>\n",
       "</table>\n",
       "<p>9 rows × 111 columns</p>\n",
       "</div>"
      ],
      "text/plain": [
       "   word/media/image4.jpeg  docProps/thumbnail.emf  word/media/image18.jpeg  \\\n",
       "0                       0                       0                        0   \n",
       "1                       0                       0                        0   \n",
       "2                       0                       0                        0   \n",
       "3                       0                       0                        0   \n",
       "4                       0                       0                        0   \n",
       "5                       0                       0                        0   \n",
       "6                       0                       0                        0   \n",
       "7                       0                       0                        0   \n",
       "8                       0                       0                        0   \n",
       "\n",
       "   customXml/item3.xml  word/endnotes.xml  word/media/image27.jpeg  \\\n",
       "0                    0                  0                        0   \n",
       "1                    0                  0                        0   \n",
       "2                    0                  0                        0   \n",
       "3                    0                  0                        0   \n",
       "4                    0                  0                        0   \n",
       "5                    0                  1                        0   \n",
       "6                    0                  0                        0   \n",
       "7                    0                  0                        0   \n",
       "8                    0                  0                        0   \n",
       "\n",
       "   word/_rels/header1.xml.rels  word/theme/theme1.xml  word/media/image2.jpeg  \\\n",
       "0                            0                      1                       0   \n",
       "1                            0                      1                       1   \n",
       "2                            0                      1                       0   \n",
       "3                            0                      1                       0   \n",
       "4                            0                      0                       0   \n",
       "5                            1                      1                       0   \n",
       "6                            0                      1                       0   \n",
       "7                            0                      0                       0   \n",
       "8                            0                      1                       0   \n",
       "\n",
       "   word/media/image2.emf         ...          word/media/image24.jpeg  \\\n",
       "0                      0         ...                                0   \n",
       "1                      0         ...                                0   \n",
       "2                      0         ...                                0   \n",
       "3                      0         ...                                0   \n",
       "4                      0         ...                                0   \n",
       "5                      0         ...                                0   \n",
       "6                      0         ...                                0   \n",
       "7                      0         ...                                0   \n",
       "8                      0         ...                                0   \n",
       "\n",
       "   word/media/image8.png  [Content_Types].xml  word/media/image1.emf  \\\n",
       "0                      0                    1                      0   \n",
       "1                      0                    1                      0   \n",
       "2                      0                    1                      0   \n",
       "3                      0                    1                      0   \n",
       "4                      0                    1                      0   \n",
       "5                      1                    1                      0   \n",
       "6                      0                    1                      0   \n",
       "7                      0                    1                      0   \n",
       "8                      0                    1                      0   \n",
       "\n",
       "   word/_rels/customizations.xml.rels  word/document.xml  \\\n",
       "0                                   0                  1   \n",
       "1                                   0                  1   \n",
       "2                                   0                  1   \n",
       "3                                   0                  1   \n",
       "4                                   0                  0   \n",
       "5                                   0                  1   \n",
       "6                                   0                  1   \n",
       "7                                   0                  0   \n",
       "8                                   0                  1   \n",
       "\n",
       "   word/media/image25.jpeg  word/embeddings/oleObject2.bin  \\\n",
       "0                        0                               0   \n",
       "1                        0                               0   \n",
       "2                        0                               0   \n",
       "3                        0                               0   \n",
       "4                        0                               0   \n",
       "5                        0                               0   \n",
       "6                        0                               0   \n",
       "7                        0                               0   \n",
       "8                        0                               0   \n",
       "\n",
       "   word/media/image8.jpeg  word/numbering.xml  \n",
       "0                       0                   0  \n",
       "1                       0                   0  \n",
       "2                       0                   0  \n",
       "3                       0                   0  \n",
       "4                       0                   0  \n",
       "5                       0                   1  \n",
       "6                       0                   0  \n",
       "7                       0                   0  \n",
       "8                       0                   0  \n",
       "\n",
       "[9 rows x 111 columns]"
      ]
     },
     "execution_count": 345,
     "metadata": {},
     "output_type": "execute_result"
    }
   ],
   "source": [
    "test_mal_feature"
   ]
  },
  {
   "cell_type": "code",
   "execution_count": 346,
   "metadata": {},
   "outputs": [
    {
     "name": "stderr",
     "output_type": "stream",
     "text": [
      "c:\\users\\lgty\\appdata\\local\\programs\\python\\python36\\lib\\site-packages\\ipykernel_launcher.py:3: DeprecationWarning: \n",
      ".ix is deprecated. Please use\n",
      ".loc for label based indexing or\n",
      ".iloc for positional indexing\n",
      "\n",
      "See the documentation here:\n",
      "http://pandas.pydata.org/pandas-docs/stable/indexing.html#ix-indexer-is-deprecated\n",
      "  This is separate from the ipykernel package so we can avoid doing imports until\n"
     ]
    }
   ],
   "source": [
    "test_data_feature = []\n",
    "for i in range(len(test_mal_feature)):\n",
    "    t= list(test_mal_feature.ix[0])\n",
    "    test_data_feature.append(t)"
   ]
  },
  {
   "cell_type": "code",
   "execution_count": 347,
   "metadata": {},
   "outputs": [],
   "source": [
    "test_data_features = np.array(test_data_feature)"
   ]
  },
  {
   "cell_type": "code",
   "execution_count": 354,
   "metadata": {},
   "outputs": [],
   "source": [
    "result = forest.predict(test_data_features)"
   ]
  },
  {
   "cell_type": "code",
   "execution_count": 355,
   "metadata": {},
   "outputs": [
    {
     "data": {
      "text/plain": [
       "array([1, 1, 1, 1, 1, 1, 1, 1, 1])"
      ]
     },
     "execution_count": 355,
     "metadata": {},
     "output_type": "execute_result"
    }
   ],
   "source": [
    "result"
   ]
  },
  {
   "cell_type": "code",
   "execution_count": 362,
   "metadata": {},
   "outputs": [],
   "source": [
    "ben_df=ben_train\n",
    "mal_df = mal_train"
   ]
  },
  {
   "cell_type": "code",
   "execution_count": 363,
   "metadata": {},
   "outputs": [],
   "source": [
    "del mal_df['label']"
   ]
  },
  {
   "cell_type": "code",
   "execution_count": 358,
   "metadata": {},
   "outputs": [],
   "source": [
    "ben_feature = []\n",
    "for i in range(len(ben_df)):\n",
    "    ben_feature.append(list(ben_df.loc[i]))\n",
    "ben_features = np.array(ben_feature)"
   ]
  },
  {
   "cell_type": "code",
   "execution_count": 364,
   "metadata": {},
   "outputs": [],
   "source": [
    "mal_feature = []\n",
    "for i in range(len(mal_df)):\n",
    "    mal_feature.append(list(mal_df.loc[i]))\n",
    "mal_features = np.array(mal_feature)"
   ]
  },
  {
   "cell_type": "code",
   "execution_count": 361,
   "metadata": {},
   "outputs": [
    {
     "data": {
      "text/plain": [
       "array([0, 0, 0, 0, 0, 0, 0, 0, 0, 0, 0, 0, 0, 0, 0, 0, 0, 0, 0, 0, 0, 0,\n",
       "       0, 0, 0, 0, 0, 0, 0, 0, 0, 0, 0, 0, 0, 0, 0, 0, 1, 0, 0, 0, 0, 0,\n",
       "       0, 0, 0, 0, 0, 0, 0, 0, 0, 0, 0, 0, 0, 1, 0, 0, 0, 0, 0, 0, 0, 0,\n",
       "       0, 0, 0, 0, 0, 0, 0, 0, 0, 0, 0, 0, 0, 0, 0, 0])"
      ]
     },
     "execution_count": 361,
     "metadata": {},
     "output_type": "execute_result"
    }
   ],
   "source": [
    "result = forest.predict(ben_features)\n",
    "result"
   ]
  },
  {
   "cell_type": "code",
   "execution_count": 365,
   "metadata": {},
   "outputs": [
    {
     "data": {
      "text/plain": [
       "array([1, 1, 1, 1, 1, 1, 1, 1, 1, 1, 1, 1, 1, 1, 1, 1, 1, 1, 1, 1, 1, 1,\n",
       "       1, 1, 1, 1, 1, 1, 1, 1, 1, 1, 1, 1, 1, 1, 1, 1, 1, 1, 0, 1, 1, 1,\n",
       "       1, 1, 1, 1, 0, 1, 1, 1, 1, 1, 1, 1, 1, 0])"
      ]
     },
     "execution_count": 365,
     "metadata": {},
     "output_type": "execute_result"
    }
   ],
   "source": [
    "result = forest.predict(mal_features)\n",
    "result"
   ]
  },
  {
   "cell_type": "code",
   "execution_count": null,
   "metadata": {},
   "outputs": [],
   "source": []
  }
 ],
 "metadata": {
  "kernelspec": {
   "display_name": "Python 3",
   "language": "python",
   "name": "python3"
  },
  "language_info": {
   "codemirror_mode": {
    "name": "ipython",
    "version": 3
   },
   "file_extension": ".py",
   "mimetype": "text/x-python",
   "name": "python",
   "nbconvert_exporter": "python",
   "pygments_lexer": "ipython3",
   "version": "3.6.6"
  }
 },
 "nbformat": 4,
 "nbformat_minor": 2
}
